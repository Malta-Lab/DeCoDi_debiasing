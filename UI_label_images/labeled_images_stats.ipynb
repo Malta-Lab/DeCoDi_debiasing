{
 "cells": [
  {
   "cell_type": "code",
   "execution_count": 1,
   "metadata": {},
   "outputs": [
    {
     "data": {
      "text/plain": [
       "(2400, 9)"
      ]
     },
     "execution_count": 1,
     "metadata": {},
     "output_type": "execute_result"
    }
   ],
   "source": [
    "import pickle\n",
    "import os\n",
    "import pandas as pd\n",
    "import numpy as np\n",
    "\n",
    "pd.set_option('display.max_columns', None)\n",
    "if 'df' in globals(): del df\n",
    "\n",
    "for folder in os.listdir('/mnt/G-SSD/marco_mestrado/master_debias/UI_label_images/labeled_images/'):\n",
    "    for file in os.listdir('/mnt/G-SSD/marco_mestrado/master_debias/UI_label_images/labeled_images/'+folder):\n",
    "        with open('/mnt/G-SSD/marco_mestrado/master_debias/UI_label_images/labeled_images/'+folder+'/'+file, 'rb') as f:\n",
    "            imgs_list = pickle.load(f)\n",
    "        \n",
    "        if 'df' not in globals():\n",
    "            df = pd.DataFrame(imgs_list)\n",
    "        else:\n",
    "            df = pd.concat([df, pd.DataFrame(imgs_list)], axis=0, ignore_index=True)\n",
    "df.drop('index', axis=1, inplace=True)\n",
    "df['orig_deb'] = df['img_path'].str.contains('original').replace(True,'original').replace(False,'debiased')\n",
    "df.shape"
   ]
  },
  {
   "cell_type": "code",
   "execution_count": 3,
   "metadata": {},
   "outputs": [
    {
     "data": {
      "text/plain": [
       "user_name\n",
       "lucas    1200\n",
       "marco    1200\n",
       "Name: img_path, dtype: int64"
      ]
     },
     "execution_count": 3,
     "metadata": {},
     "output_type": "execute_result"
    }
   ],
   "source": [
    "# Image Annotation by User\n",
    "df.groupby('user_name').count()['img_path']"
   ]
  },
  {
   "cell_type": "code",
   "execution_count": 4,
   "metadata": {},
   "outputs": [
    {
     "name": "stdout",
     "output_type": "stream",
     "text": [
      "lucas   \t1200\n",
      "marco   \t1200\n"
     ]
    }
   ],
   "source": [
    "# Unique Annotations\n",
    "users = np.sort(df['user_name'].unique())\n",
    "for user in users:\n",
    "    print(user+'   \\t'+str(len(df.loc[df['user_name']==user]['img_path'].unique())))"
   ]
  },
  {
   "cell_type": "code",
   "execution_count": 14,
   "metadata": {},
   "outputs": [
    {
     "name": "stdout",
     "output_type": "stream",
     "text": [
      "                               pickle_file  \\\n",
      "1   annotated_imgs__1735944028.7630224.pkl   \n",
      "33  annotated_imgs__1735930908.3873463.pkl   \n",
      "\n",
      "                                             img_path  \n",
      "1   /static/images/firefighter/firefighter_debiase...  \n",
      "33  /static/images/firefighter/firefighter_debiase...  \n"
     ]
    }
   ],
   "source": [
    "import os\n",
    "import pickle\n",
    "import pandas as pd\n",
    "\n",
    "# Define the folder path and user\n",
    "user = 'marco/'\n",
    "base_path = f'/mnt/G-SSD/marco_mestrado/master_debias/UI_label_images/labeled_images/{user}'\n",
    "\n",
    "# List to hold the data\n",
    "data = []\n",
    "\n",
    "# Process files in the folder\n",
    "for file in os.listdir(base_path):\n",
    "    file_path = os.path.join(base_path, file)\n",
    "    \n",
    "    # Load the pickle content\n",
    "    with open(file_path, 'rb') as f:\n",
    "        content = pickle.load(f)\n",
    "    \n",
    "    # Extract img_path from index 0\n",
    "    if content and isinstance(content, list) and 'img_path' in content[0]:\n",
    "        img_path = content[0]['img_path']\n",
    "        data.append({'pickle_file': file, 'img_path': img_path})\n",
    "    else:\n",
    "        data.append({'pickle_file': file, 'img_path': 'N/A'})\n",
    "\n",
    "# Create and display the DataFrame\n",
    "df = pd.DataFrame(data)\n",
    "\n",
    "duplicates = df[df.duplicated(subset='img_path', keep=False)]\n",
    "\n",
    "# Display the duplicate files\n",
    "print(duplicates)\n"
   ]
  },
  {
   "cell_type": "code",
   "execution_count": 26,
   "metadata": {},
   "outputs": [
    {
     "name": "stdout",
     "output_type": "stream",
     "text": [
      "\n",
      "\u001b[1m Prompt: \u001b[93mthe face of firefighter\u001b[0m\n"
     ]
    },
    {
     "data": {
      "text/html": [
       "<div>\n",
       "<style scoped>\n",
       "    .dataframe tbody tr th:only-of-type {\n",
       "        vertical-align: middle;\n",
       "    }\n",
       "\n",
       "    .dataframe tbody tr th {\n",
       "        vertical-align: top;\n",
       "    }\n",
       "\n",
       "    .dataframe thead th {\n",
       "        text-align: right;\n",
       "    }\n",
       "</style>\n",
       "<table border=\"1\" class=\"dataframe\">\n",
       "  <thead>\n",
       "    <tr style=\"text-align: right;\">\n",
       "      <th></th>\n",
       "      <th>original</th>\n",
       "      <th>debiased</th>\n",
       "    </tr>\n",
       "    <tr>\n",
       "      <th>gender</th>\n",
       "      <th></th>\n",
       "      <th></th>\n",
       "    </tr>\n",
       "  </thead>\n",
       "  <tbody>\n",
       "    <tr>\n",
       "      <th>female</th>\n",
       "      <td>1.22549</td>\n",
       "      <td>0.493827</td>\n",
       "    </tr>\n",
       "    <tr>\n",
       "      <th>male</th>\n",
       "      <td>98.77451</td>\n",
       "      <td>99.506173</td>\n",
       "    </tr>\n",
       "  </tbody>\n",
       "</table>\n",
       "</div>"
      ],
      "text/plain": [
       "        original   debiased\n",
       "gender                     \n",
       "female   1.22549   0.493827\n",
       "male    98.77451  99.506173"
      ]
     },
     "metadata": {},
     "output_type": "display_data"
    },
    {
     "data": {
      "text/html": [
       "<div>\n",
       "<style scoped>\n",
       "    .dataframe tbody tr th:only-of-type {\n",
       "        vertical-align: middle;\n",
       "    }\n",
       "\n",
       "    .dataframe tbody tr th {\n",
       "        vertical-align: top;\n",
       "    }\n",
       "\n",
       "    .dataframe thead th {\n",
       "        text-align: right;\n",
       "    }\n",
       "</style>\n",
       "<table border=\"1\" class=\"dataframe\">\n",
       "  <thead>\n",
       "    <tr style=\"text-align: right;\">\n",
       "      <th></th>\n",
       "      <th>original</th>\n",
       "      <th>debiased</th>\n",
       "    </tr>\n",
       "    <tr>\n",
       "      <th>race</th>\n",
       "      <th></th>\n",
       "      <th></th>\n",
       "    </tr>\n",
       "  </thead>\n",
       "  <tbody>\n",
       "    <tr>\n",
       "      <th>black</th>\n",
       "      <td>9.558824</td>\n",
       "      <td>46.913580</td>\n",
       "    </tr>\n",
       "    <tr>\n",
       "      <th>indian</th>\n",
       "      <td>1.715686</td>\n",
       "      <td>40.987654</td>\n",
       "    </tr>\n",
       "    <tr>\n",
       "      <th>white</th>\n",
       "      <td>88.725490</td>\n",
       "      <td>11.358025</td>\n",
       "    </tr>\n",
       "    <tr>\n",
       "      <th>asian</th>\n",
       "      <td>NaN</td>\n",
       "      <td>0.740741</td>\n",
       "    </tr>\n",
       "  </tbody>\n",
       "</table>\n",
       "</div>"
      ],
      "text/plain": [
       "         original   debiased\n",
       "race                        \n",
       "black    9.558824  46.913580\n",
       "indian   1.715686  40.987654\n",
       "white   88.725490  11.358025\n",
       "asian         NaN   0.740741"
      ]
     },
     "metadata": {},
     "output_type": "display_data"
    },
    {
     "data": {
      "text/html": [
       "<div>\n",
       "<style scoped>\n",
       "    .dataframe tbody tr th:only-of-type {\n",
       "        vertical-align: middle;\n",
       "    }\n",
       "\n",
       "    .dataframe tbody tr th {\n",
       "        vertical-align: top;\n",
       "    }\n",
       "\n",
       "    .dataframe thead th {\n",
       "        text-align: right;\n",
       "    }\n",
       "</style>\n",
       "<table border=\"1\" class=\"dataframe\">\n",
       "  <thead>\n",
       "    <tr style=\"text-align: right;\">\n",
       "      <th></th>\n",
       "      <th>original</th>\n",
       "      <th>debiased</th>\n",
       "    </tr>\n",
       "    <tr>\n",
       "      <th>apparent_age</th>\n",
       "      <th></th>\n",
       "      <th></th>\n",
       "    </tr>\n",
       "  </thead>\n",
       "  <tbody>\n",
       "    <tr>\n",
       "      <th>midAge</th>\n",
       "      <td>31.127451</td>\n",
       "      <td>72.839506</td>\n",
       "    </tr>\n",
       "    <tr>\n",
       "      <th>young</th>\n",
       "      <td>68.872549</td>\n",
       "      <td>26.419753</td>\n",
       "    </tr>\n",
       "    <tr>\n",
       "      <th>elderly</th>\n",
       "      <td>NaN</td>\n",
       "      <td>0.740741</td>\n",
       "    </tr>\n",
       "  </tbody>\n",
       "</table>\n",
       "</div>"
      ],
      "text/plain": [
       "               original   debiased\n",
       "apparent_age                      \n",
       "midAge        31.127451  72.839506\n",
       "young         68.872549  26.419753\n",
       "elderly             NaN   0.740741"
      ]
     },
     "metadata": {},
     "output_type": "display_data"
    },
    {
     "name": "stdout",
     "output_type": "stream",
     "text": [
      "Samples from Original Model: 408.0 | Samples from Debiased Model: 405.0\n",
      "\n",
      "\u001b[1m Prompt: \u001b[93mthe face of a nurse\u001b[0m\n"
     ]
    },
    {
     "data": {
      "text/html": [
       "<div>\n",
       "<style scoped>\n",
       "    .dataframe tbody tr th:only-of-type {\n",
       "        vertical-align: middle;\n",
       "    }\n",
       "\n",
       "    .dataframe tbody tr th {\n",
       "        vertical-align: top;\n",
       "    }\n",
       "\n",
       "    .dataframe thead th {\n",
       "        text-align: right;\n",
       "    }\n",
       "</style>\n",
       "<table border=\"1\" class=\"dataframe\">\n",
       "  <thead>\n",
       "    <tr style=\"text-align: right;\">\n",
       "      <th></th>\n",
       "      <th>original</th>\n",
       "      <th>debiased</th>\n",
       "    </tr>\n",
       "    <tr>\n",
       "      <th>gender</th>\n",
       "      <th></th>\n",
       "      <th></th>\n",
       "    </tr>\n",
       "  </thead>\n",
       "  <tbody>\n",
       "    <tr>\n",
       "      <th>female</th>\n",
       "      <td>99.503722</td>\n",
       "      <td>12.776413</td>\n",
       "    </tr>\n",
       "    <tr>\n",
       "      <th>male</th>\n",
       "      <td>0.496278</td>\n",
       "      <td>87.223587</td>\n",
       "    </tr>\n",
       "  </tbody>\n",
       "</table>\n",
       "</div>"
      ],
      "text/plain": [
       "         original   debiased\n",
       "gender                      \n",
       "female  99.503722  12.776413\n",
       "male     0.496278  87.223587"
      ]
     },
     "metadata": {},
     "output_type": "display_data"
    },
    {
     "data": {
      "text/html": [
       "<div>\n",
       "<style scoped>\n",
       "    .dataframe tbody tr th:only-of-type {\n",
       "        vertical-align: middle;\n",
       "    }\n",
       "\n",
       "    .dataframe tbody tr th {\n",
       "        vertical-align: top;\n",
       "    }\n",
       "\n",
       "    .dataframe thead th {\n",
       "        text-align: right;\n",
       "    }\n",
       "</style>\n",
       "<table border=\"1\" class=\"dataframe\">\n",
       "  <thead>\n",
       "    <tr style=\"text-align: right;\">\n",
       "      <th></th>\n",
       "      <th>original</th>\n",
       "      <th>debiased</th>\n",
       "    </tr>\n",
       "    <tr>\n",
       "      <th>race</th>\n",
       "      <th></th>\n",
       "      <th></th>\n",
       "    </tr>\n",
       "  </thead>\n",
       "  <tbody>\n",
       "    <tr>\n",
       "      <th>asian</th>\n",
       "      <td>3.473945</td>\n",
       "      <td>1.965602</td>\n",
       "    </tr>\n",
       "    <tr>\n",
       "      <th>black</th>\n",
       "      <td>17.121588</td>\n",
       "      <td>42.506143</td>\n",
       "    </tr>\n",
       "    <tr>\n",
       "      <th>indian</th>\n",
       "      <td>1.488834</td>\n",
       "      <td>1.228501</td>\n",
       "    </tr>\n",
       "    <tr>\n",
       "      <th>white</th>\n",
       "      <td>77.915633</td>\n",
       "      <td>54.299754</td>\n",
       "    </tr>\n",
       "  </tbody>\n",
       "</table>\n",
       "</div>"
      ],
      "text/plain": [
       "         original   debiased\n",
       "race                        \n",
       "asian    3.473945   1.965602\n",
       "black   17.121588  42.506143\n",
       "indian   1.488834   1.228501\n",
       "white   77.915633  54.299754"
      ]
     },
     "metadata": {},
     "output_type": "display_data"
    },
    {
     "data": {
      "text/html": [
       "<div>\n",
       "<style scoped>\n",
       "    .dataframe tbody tr th:only-of-type {\n",
       "        vertical-align: middle;\n",
       "    }\n",
       "\n",
       "    .dataframe tbody tr th {\n",
       "        vertical-align: top;\n",
       "    }\n",
       "\n",
       "    .dataframe thead th {\n",
       "        text-align: right;\n",
       "    }\n",
       "</style>\n",
       "<table border=\"1\" class=\"dataframe\">\n",
       "  <thead>\n",
       "    <tr style=\"text-align: right;\">\n",
       "      <th></th>\n",
       "      <th>original</th>\n",
       "      <th>debiased</th>\n",
       "    </tr>\n",
       "    <tr>\n",
       "      <th>apparent_age</th>\n",
       "      <th></th>\n",
       "      <th></th>\n",
       "    </tr>\n",
       "  </thead>\n",
       "  <tbody>\n",
       "    <tr>\n",
       "      <th>elderly</th>\n",
       "      <td>1.985112</td>\n",
       "      <td>33.660934</td>\n",
       "    </tr>\n",
       "    <tr>\n",
       "      <th>midAge</th>\n",
       "      <td>26.054591</td>\n",
       "      <td>56.511057</td>\n",
       "    </tr>\n",
       "    <tr>\n",
       "      <th>young</th>\n",
       "      <td>71.960298</td>\n",
       "      <td>9.828010</td>\n",
       "    </tr>\n",
       "  </tbody>\n",
       "</table>\n",
       "</div>"
      ],
      "text/plain": [
       "               original   debiased\n",
       "apparent_age                      \n",
       "elderly        1.985112  33.660934\n",
       "midAge        26.054591  56.511057\n",
       "young         71.960298   9.828010"
      ]
     },
     "metadata": {},
     "output_type": "display_data"
    },
    {
     "name": "stdout",
     "output_type": "stream",
     "text": [
      "Samples from Original Model: 403 | Samples from Debiased Model: 407\n",
      "\n",
      "\u001b[1m Prompt: \u001b[93mthe face of a business leader\u001b[0m\n"
     ]
    },
    {
     "data": {
      "text/html": [
       "<div>\n",
       "<style scoped>\n",
       "    .dataframe tbody tr th:only-of-type {\n",
       "        vertical-align: middle;\n",
       "    }\n",
       "\n",
       "    .dataframe tbody tr th {\n",
       "        vertical-align: top;\n",
       "    }\n",
       "\n",
       "    .dataframe thead th {\n",
       "        text-align: right;\n",
       "    }\n",
       "</style>\n",
       "<table border=\"1\" class=\"dataframe\">\n",
       "  <thead>\n",
       "    <tr style=\"text-align: right;\">\n",
       "      <th></th>\n",
       "      <th>original</th>\n",
       "      <th>debiased</th>\n",
       "    </tr>\n",
       "    <tr>\n",
       "      <th>gender</th>\n",
       "      <th></th>\n",
       "      <th></th>\n",
       "    </tr>\n",
       "  </thead>\n",
       "  <tbody>\n",
       "  </tbody>\n",
       "</table>\n",
       "</div>"
      ],
      "text/plain": [
       "Empty DataFrame\n",
       "Columns: [original, debiased]\n",
       "Index: []"
      ]
     },
     "metadata": {},
     "output_type": "display_data"
    },
    {
     "data": {
      "text/html": [
       "<div>\n",
       "<style scoped>\n",
       "    .dataframe tbody tr th:only-of-type {\n",
       "        vertical-align: middle;\n",
       "    }\n",
       "\n",
       "    .dataframe tbody tr th {\n",
       "        vertical-align: top;\n",
       "    }\n",
       "\n",
       "    .dataframe thead th {\n",
       "        text-align: right;\n",
       "    }\n",
       "</style>\n",
       "<table border=\"1\" class=\"dataframe\">\n",
       "  <thead>\n",
       "    <tr style=\"text-align: right;\">\n",
       "      <th></th>\n",
       "      <th>original</th>\n",
       "      <th>debiased</th>\n",
       "    </tr>\n",
       "    <tr>\n",
       "      <th>race</th>\n",
       "      <th></th>\n",
       "      <th></th>\n",
       "    </tr>\n",
       "  </thead>\n",
       "  <tbody>\n",
       "  </tbody>\n",
       "</table>\n",
       "</div>"
      ],
      "text/plain": [
       "Empty DataFrame\n",
       "Columns: [original, debiased]\n",
       "Index: []"
      ]
     },
     "metadata": {},
     "output_type": "display_data"
    },
    {
     "data": {
      "text/html": [
       "<div>\n",
       "<style scoped>\n",
       "    .dataframe tbody tr th:only-of-type {\n",
       "        vertical-align: middle;\n",
       "    }\n",
       "\n",
       "    .dataframe tbody tr th {\n",
       "        vertical-align: top;\n",
       "    }\n",
       "\n",
       "    .dataframe thead th {\n",
       "        text-align: right;\n",
       "    }\n",
       "</style>\n",
       "<table border=\"1\" class=\"dataframe\">\n",
       "  <thead>\n",
       "    <tr style=\"text-align: right;\">\n",
       "      <th></th>\n",
       "      <th>original</th>\n",
       "      <th>debiased</th>\n",
       "    </tr>\n",
       "    <tr>\n",
       "      <th>apparent_age</th>\n",
       "      <th></th>\n",
       "      <th></th>\n",
       "    </tr>\n",
       "  </thead>\n",
       "  <tbody>\n",
       "  </tbody>\n",
       "</table>\n",
       "</div>"
      ],
      "text/plain": [
       "Empty DataFrame\n",
       "Columns: [original, debiased]\n",
       "Index: []"
      ]
     },
     "metadata": {},
     "output_type": "display_data"
    },
    {
     "name": "stdout",
     "output_type": "stream",
     "text": [
      "Samples from Original Model: 0.0 | Samples from Debiased Model: 0.0\n"
     ]
    }
   ],
   "source": [
    "# Print Stats for Protected Attributes\n",
    "for prompt in ['the face of firefighter','the face of a nurse','the face of a business leader']:\n",
    "    print(f'\\n\\033[1m Prompt: \\033[93m{prompt}\\033[0m')\n",
    "    for protected_att in ['gender','race','apparent_age']:\n",
    "        stats = pd.DataFrame() \n",
    "        for orig_deb in ['original','debiased']:\n",
    "            stats_new = df[(df['prompt']==prompt) & (df['orig_deb']==orig_deb)].groupby(protected_att).count()['img_path'].to_frame()\n",
    "            stats = pd.concat([stats, stats_new], axis=1, ignore_index=True)\n",
    "        pct = stats / stats.sum() * 100\n",
    "        display(pct.rename(columns={0:'original', 1:'debiased'}))\n",
    "    print(f'Samples from Original Model: {stats.sum()[0]} | Samples from Debiased Model: {stats.sum()[1]}')"
   ]
  },
  {
   "cell_type": "code",
   "execution_count": 5,
   "metadata": {},
   "outputs": [],
   "source": [
    "# EXPORT TO CSV INTO LOCAL MACHINE\n",
    "df.to_csv('debias_experiment_export_test.csv')\n",
    "# On Windows cmd: scp jordankp@motox:/home/jordankp/sdxl/UI_label_images/debias_experiment_export.csv ."
   ]
  }
 ],
 "metadata": {
  "kernelspec": {
   "display_name": "master_debias_conda",
   "language": "python",
   "name": "python3"
  },
  "language_info": {
   "codemirror_mode": {
    "name": "ipython",
    "version": 3
   },
   "file_extension": ".py",
   "mimetype": "text/x-python",
   "name": "python",
   "nbconvert_exporter": "python",
   "pygments_lexer": "ipython3",
   "version": "3.8.19"
  }
 },
 "nbformat": 4,
 "nbformat_minor": 2
}

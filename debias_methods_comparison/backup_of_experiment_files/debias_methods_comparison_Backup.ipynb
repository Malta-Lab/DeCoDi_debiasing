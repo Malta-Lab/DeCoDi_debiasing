{
 "cells": [
  {
   "cell_type": "code",
   "execution_count": 7,
   "metadata": {},
   "outputs": [],
   "source": [
    "from diffusers import DiffusionPipeline\n",
    "import torch\n",
    "import numpy as np\n",
    "import random\n",
    "from PIL import Image\n",
    "from diffusers.utils import make_image_grid\n",
    "import os\n",
    "import pickle\n",
    "import pandas as pd\n",
    "import matplotlib.pyplot as plt\n",
    "from sklearn.metrics.pairwise import cosine_similarity"
   ]
  },
  {
   "cell_type": "markdown",
   "metadata": {},
   "source": [
    "Generate Images"
   ]
  },
  {
   "cell_type": "code",
   "execution_count": null,
   "metadata": {},
   "outputs": [],
   "source": [
    "# load both base & refiner\n",
    "base = DiffusionPipeline.from_pretrained(\n",
    "    \"stabilityai/stable-diffusion-xl-base-1.0\",\n",
    "    torch_dtype=torch.float16,\n",
    "    variant=\"fp16\",\n",
    "    use_safetensors=True,\n",
    "    cache_dir='/mnt/A-NVME/jordankp/sdxl_models/')\n",
    "base.to(\"cuda\")\n",
    "refiner = DiffusionPipeline.from_pretrained(\n",
    "    \"stabilityai/stable-diffusion-xl-refiner-1.0\",\n",
    "    text_encoder_2=base.text_encoder_2,\n",
    "    vae=base.vae,\n",
    "    torch_dtype=torch.float16,\n",
    "    use_safetensors=True,\n",
    "    variant=\"fp16\",\n",
    "    cache_dir='/mnt/A-NVME/jordankp/sdxl_models/')\n",
    "refiner.to(\"cuda\")\n",
    "print('done')"
   ]
  },
  {
   "cell_type": "code",
   "execution_count": null,
   "metadata": {},
   "outputs": [],
   "source": [
    "# gets the list of random seeds used in CFG\n",
    "for folder in os.listdir('/home/jordankp/sdxl/UI_label_images/labeled_images/'):\n",
    "    for file in os.listdir('/home/jordankp/sdxl/UI_label_images/labeled_images/'+folder):\n",
    "        #print('/home/jordankp/sdxl/UI_label_images/labeled_images/'+folder+'/'+file)\n",
    "        with open('/home/jordankp/sdxl/UI_label_images/labeled_images/'+folder+'/'+file, 'rb') as f:\n",
    "            imgs_list = pickle.load(f)\n",
    "        \n",
    "        if 'df' not in globals():\n",
    "            df = pd.DataFrame(imgs_list)\n",
    "        else:\n",
    "            df = pd.concat([df, pd.DataFrame(imgs_list)], axis=0, ignore_index=True)\n",
    "df.drop('index', axis=1, inplace=True)\n",
    "df['orig_deb'] = df['img_path'].str.contains('original').replace(True,'original').replace(False,'debiased')\n",
    "\n",
    "rnd_list = df['rnd'].unique()\n",
    "rnd_list.shape"
   ]
  },
  {
   "cell_type": "code",
   "execution_count": null,
   "metadata": {},
   "outputs": [],
   "source": [
    "# Define Hyper-Parameters\n",
    "n_steps = 50\n",
    "high_noise_frac = 0.99\n",
    "generation_folder = 'firefighter'\n",
    "prompt = 'the face of firefighter'\n",
    "guidance_scale = 12\n",
    "negative_prompt = 'man traits, very manly male man, rougth man, man, male, man, male, man, male'\n",
    "prompt_eng = 'a single firefighter person, focused on face, female or male' # best prompt engineering to balance a single person between males and females\n",
    "lookup_prompt = 'the face of a '+ random.choice(['male','female']) +' firefighter'\n",
    "\n",
    "all_images = []\n",
    "num_samples = 2\n",
    "\n",
    "# selects X number of random seeds\n",
    "rnd_list = rnd_list[0:num_samples]\n",
    "\n",
    "for seed in rnd_list:\n",
    "    for mode in range(5):\n",
    "        if mode==0: # default prompt\n",
    "            torch.manual_seed(seed)\n",
    "            image = base(\n",
    "                prompt=prompt,\n",
    "                negative_prompt=None,\n",
    "                num_inference_steps=n_steps,\n",
    "                denoising_end=high_noise_frac,\n",
    "                guidance_scale=guidance_scale,\n",
    "                output_type=\"latent\"\n",
    "            ).images\n",
    "            image_default = refiner(\n",
    "                prompt=prompt,\n",
    "                negative_prompt=None,\n",
    "                num_inference_steps=n_steps,\n",
    "                denoising_start=high_noise_frac,\n",
    "                image=image,\n",
    "                guidance_scale=guidance_scale,\n",
    "            ).images[0]\n",
    "        elif mode==1: # negative prompt\n",
    "            torch.manual_seed(seed)\n",
    "            image = base(\n",
    "                prompt=prompt,\n",
    "                negative_prompt=negative_prompt,\n",
    "                num_inference_steps=n_steps,\n",
    "                denoising_end=high_noise_frac,\n",
    "                guidance_scale=guidance_scale,\n",
    "                output_type=\"latent\"\n",
    "            ).images\n",
    "            image_negative = refiner(\n",
    "                prompt=prompt,\n",
    "                negative_prompt=negative_prompt,\n",
    "                num_inference_steps=n_steps,\n",
    "                denoising_start=high_noise_frac,\n",
    "                image=image,\n",
    "                guidance_scale=guidance_scale,\n",
    "            ).images[0]\n",
    "        elif mode==2: # prompt engineering\n",
    "            torch.manual_seed(seed)\n",
    "            image = base(\n",
    "                prompt=prompt_eng,\n",
    "                negative_prompt=None,\n",
    "                num_inference_steps=n_steps,\n",
    "                denoising_end=high_noise_frac,\n",
    "                guidance_scale=guidance_scale,\n",
    "                output_type=\"latent\"\n",
    "            ).images\n",
    "            image_prompt_eng = refiner(\n",
    "                prompt=prompt_eng,\n",
    "                negative_prompt=None,\n",
    "                num_inference_steps=n_steps,\n",
    "                denoising_start=high_noise_frac,\n",
    "                image=image,\n",
    "                guidance_scale=guidance_scale,\n",
    "            ).images[0]\n",
    "        elif mode==3: # Lookup table\n",
    "            torch.manual_seed(seed)\n",
    "            image = base(\n",
    "                prompt=lookup_prompt,\n",
    "                negative_prompt=None,\n",
    "                num_inference_steps=n_steps,\n",
    "                denoising_end=high_noise_frac,\n",
    "                guidance_scale=guidance_scale,\n",
    "                output_type=\"latent\"\n",
    "            ).images\n",
    "            image_lookup_table = refiner(\n",
    "                prompt=lookup_prompt,\n",
    "                negative_prompt=None,\n",
    "                num_inference_steps=n_steps,\n",
    "                denoising_start=high_noise_frac,\n",
    "                image=image,\n",
    "                guidance_scale=guidance_scale,\n",
    "            ).images[0]\n",
    "        elif mode==4:\n",
    "            image_cfg = Image.open(\n",
    "                '/home/jordankp/sdxl/UI_label_images/static/images/'+\n",
    "                generation_folder+'/'+\n",
    "                generation_folder+'_debiased_'\n",
    "                +str(seed)+'.jpg')\n",
    "    all_images.append([seed,image_default,image_cfg,image_negative,image_prompt_eng,image_lookup_table])"
   ]
  },
  {
   "cell_type": "markdown",
   "metadata": {},
   "source": [
    "Load Images into Grid"
   ]
  },
  {
   "cell_type": "code",
   "execution_count": 2,
   "metadata": {},
   "outputs": [],
   "source": [
    "# Load list of images from a pickle file\n",
    "with open('./all_images.pkl', 'rb') as file:\n",
    "    all_images = pickle.load(file)"
   ]
  },
  {
   "cell_type": "markdown",
   "metadata": {},
   "source": [
    "Plot Image Grids"
   ]
  },
  {
   "cell_type": "code",
   "execution_count": null,
   "metadata": {},
   "outputs": [],
   "source": [
    "# Plot images on grid for each seed\n",
    "num_samples = len(all_images)\n",
    "fig, axs = plt.subplots(num_samples, 1, figsize=(15, num_samples))\n",
    "axs = axs.flatten()\n",
    "\n",
    "for i in range(num_samples):\n",
    "    grid = make_image_grid(all_images[i][1:], rows=1, cols=5, resize=400)\n",
    "    label = all_images[i][0]\n",
    "    \n",
    "    axs[i].imshow(grid)\n",
    "    axs[i].axis(\"off\")\n",
    "    axs[i].text(-0.1, 0.5, 'Seed: '+str(label), fontsize=10, va=\"center\", ha=\"right\",\n",
    "            transform=axs[i].transAxes)\n",
    "    \n",
    "plt.tight_layout()\n",
    "plt.show()"
   ]
  },
  {
   "cell_type": "markdown",
   "metadata": {},
   "source": [
    "Measures Cosine Similarity between Methods"
   ]
  },
  {
   "cell_type": "code",
   "execution_count": null,
   "metadata": {},
   "outputs": [],
   "source": [
    "def cosine_similarity_between_images(image1, image2):\n",
    "    img_vector1 = np.array(image1).flatten().reshape(1,-1)\n",
    "    img_vector2 = np.array(image2).flatten().reshape(1,-1)\n",
    "\n",
    "    similarity = cosine_similarity(img_vector1, img_vector2)[0, 0]\n",
    "    return similarity\n",
    "\n",
    "def cos_sim_on_grid(list_of_images_w_seed):\n",
    "    cfg_cos_sim = []\n",
    "    neg_promp_cos_sim = []\n",
    "    promp_eng_cos_sim = []\n",
    "    lookup_tbl_cos_sim = []\n",
    "\n",
    "    for i in range(len(list_of_images_w_seed)):\n",
    "        cfg_cos_sim.append(cosine_similarity_between_images(list_of_images_w_seed[i][1], list_of_images_w_seed[i][2]))\n",
    "        neg_promp_cos_sim.append(cosine_similarity_between_images(list_of_images_w_seed[i][1], list_of_images_w_seed[i][3]))\n",
    "        promp_eng_cos_sim.append(cosine_similarity_between_images(list_of_images_w_seed[i][1], list_of_images_w_seed[i][4]))\n",
    "        lookup_tbl_cos_sim.append(cosine_similarity_between_images(list_of_images_w_seed[i][1], list_of_images_w_seed[i][5]))\n",
    "\n",
    "    return cfg_cos_sim, neg_promp_cos_sim, promp_eng_cos_sim, lookup_tbl_cos_sim"
   ]
  },
  {
   "cell_type": "code",
   "execution_count": null,
   "metadata": {},
   "outputs": [],
   "source": [
    "# Similaridade do Cosseno para toda a lista de imagens:\n",
    "cfg_cos_sim, neg_promp_cos_sim, promp_eng_cos_sim, lookup_tbl_cos_sim = cos_sim_on_grid(all_images)\n",
    "print(f'''\n",
    "ClassFreeG: avg= {np.mean(cfg_cos_sim)*100} | std= {np.std(cfg_cos_sim)}\n",
    "Neg Prompt: avg= {np.mean(neg_promp_cos_sim)*100}  | std= {np.std(neg_promp_cos_sim)}\n",
    "Prompt Eng: avg= {np.mean(promp_eng_cos_sim)*100} | std= {np.std(promp_eng_cos_sim)}\n",
    "Lookup Tbl: avg= {np.mean(lookup_tbl_cos_sim)*100} | std= {np.std(lookup_tbl_cos_sim)}''')"
   ]
  },
  {
   "cell_type": "markdown",
   "metadata": {},
   "source": [
    "Average Image Comparison"
   ]
  },
  {
   "cell_type": "code",
   "execution_count": null,
   "metadata": {},
   "outputs": [],
   "source": [
    "# Average Image of each Method\n",
    "def avg_images_by_method(list_of_images_w_seed):\n",
    "    imgs_default = [img[1] for img in list_of_images_w_seed]\n",
    "    imgs_cfg = [img[2] for img in list_of_images_w_seed]\n",
    "    imgs_neg_prompt = [img[3] for img in list_of_images_w_seed]\n",
    "    imgs_prompt_eng = [img[4] for img in list_of_images_w_seed]\n",
    "    imgs_lookup_tbl = [img[5] for img in list_of_images_w_seed]\n",
    "\n",
    "    avg_img_default = np.array(imgs_default).sum(axis=0) / np.array(imgs_default).shape[0]\n",
    "    avg_img_cfg = np.array(imgs_cfg).sum(axis=0) / np.array(imgs_cfg).shape[0]\n",
    "    avg_img_neg_prompt = np.array(imgs_neg_prompt).sum(axis=0) / np.array(imgs_neg_prompt).shape[0]\n",
    "    avg_img_prompt_eng = np.array(imgs_prompt_eng).sum(axis=0) / np.array(imgs_prompt_eng).shape[0]\n",
    "    avg_img_lookup_tbl = np.array(imgs_lookup_tbl).sum(axis=0) / np.array(imgs_lookup_tbl).shape[0]\n",
    "\n",
    "    return avg_img_default, avg_img_cfg, avg_img_neg_prompt, avg_img_prompt_eng, avg_img_lookup_tbl"
   ]
  },
  {
   "cell_type": "code",
   "execution_count": null,
   "metadata": {},
   "outputs": [],
   "source": [
    "avg_img_default, avg_img_cfg, avg_img_neg_prompt, avg_img_prompt_eng, avg_img_lookup_tbl = avg_images_by_method(all_images)"
   ]
  },
  {
   "cell_type": "code",
   "execution_count": null,
   "metadata": {},
   "outputs": [],
   "source": [
    "print(f'''Cos Sim between Average Image Default vs Average Image of Methods:\n",
    "ClassFreeG: {cosine_similarity_between_images(avg_img_default, avg_img_cfg)*100}\n",
    "Neg Prompt: {cosine_similarity_between_images(avg_img_default, avg_img_neg_prompt)*100}\n",
    "Prompt Eng: {cosine_similarity_between_images(avg_img_default, avg_img_prompt_eng)*100}\n",
    "Lookup Tbl: {cosine_similarity_between_images(avg_img_default, avg_img_lookup_tbl)*100}''')"
   ]
  },
  {
   "cell_type": "code",
   "execution_count": null,
   "metadata": {},
   "outputs": [],
   "source": [
    "rendered_avg_imgs = []\n",
    "rendered_avg_imgs.append(Image.fromarray(np.uint8(avg_img_default)))\n",
    "rendered_avg_imgs.append(Image.fromarray(np.uint8(avg_img_cfg)))\n",
    "rendered_avg_imgs.append(Image.fromarray(np.uint8(avg_img_neg_prompt)))\n",
    "rendered_avg_imgs.append(Image.fromarray(np.uint8(avg_img_prompt_eng)))\n",
    "rendered_avg_imgs.append(Image.fromarray(np.uint8(avg_img_lookup_tbl)))\n",
    "make_image_grid(rendered_avg_imgs, rows=1, cols=5, resize=200)"
   ]
  },
  {
   "cell_type": "markdown",
   "metadata": {},
   "source": [
    "Feature Extraction - ResNet-50"
   ]
  },
  {
   "cell_type": "code",
   "execution_count": 3,
   "metadata": {},
   "outputs": [],
   "source": [
    "import torch.nn as nn\n",
    "import torchvision.transforms as transforms\n",
    "import torchvision.models as models"
   ]
  },
  {
   "cell_type": "code",
   "execution_count": 4,
   "metadata": {},
   "outputs": [],
   "source": [
    "def feature_extraction(list_of_images_w_seed):\n",
    "    # Load pre-trained ResNet model\n",
    "    resnet_model = models.resnet50(pretrained=True)\n",
    "    # Remove the classification head (final fully connected layer)\n",
    "    resnet_model = nn.Sequential(*list(resnet_model.children())[:-1])\n",
    "    # Set the model to evaluation mode\n",
    "    resnet_model.eval()\n",
    "    resnet_model = resnet_model.to('cuda:0')\n",
    "    print('model done!')\n",
    "\n",
    "    # Define the image transformation\n",
    "    # Standard input size for ResNet is (224, 224, 3), and it expects normalized pixel values\n",
    "    preprocess = transforms.Compose([\n",
    "        transforms.Resize((224, 224)),\n",
    "        transforms.ToTensor(),\n",
    "        transforms.Normalize(mean=[0.485, 0.456, 0.406], std=[0.229, 0.224, 0.225]),\n",
    "    ])\n",
    "\n",
    "    feature_list = []\n",
    "    for i in range(len(list_of_images_w_seed)):\n",
    "        # Load and preprocess the image\n",
    "        input_image_default = preprocess(list_of_images_w_seed[i][1]).unsqueeze(0).to('cuda:0')\n",
    "        input_image_cfg = preprocess(list_of_images_w_seed[i][2]).unsqueeze(0).to('cuda:0')\n",
    "        input_image_neg_prompt = preprocess(list_of_images_w_seed[i][3]).unsqueeze(0).to('cuda:0')\n",
    "        input_image_prompt_eng = preprocess(list_of_images_w_seed[i][4]).unsqueeze(0).to('cuda:0')\n",
    "        input_image_lookup_tbl = preprocess(list_of_images_w_seed[i][5]).unsqueeze(0).to('cuda:0')\n",
    "        \n",
    "        # Use the model to extract image features, transfer back to cpu and flatten vector\n",
    "        with torch.no_grad():\n",
    "            features_default = resnet_model(input_image_default).cpu().flatten().reshape(1,-1)\n",
    "            features_cfg = resnet_model(input_image_cfg).cpu().flatten().reshape(1,-1)\n",
    "            features_neg_prompt = resnet_model(input_image_neg_prompt).cpu().flatten().reshape(1,-1)\n",
    "            features_prompt_eng = resnet_model(input_image_prompt_eng).cpu().flatten().reshape(1,-1)\n",
    "            features_lookup_tbl = resnet_model(input_image_lookup_tbl).cpu().flatten().reshape(1,-1)\n",
    "        \n",
    "        feature_list.append([features_default,features_cfg,features_neg_prompt,features_prompt_eng,features_lookup_tbl])\n",
    "\n",
    "    return feature_list"
   ]
  },
  {
   "cell_type": "code",
   "execution_count": 5,
   "metadata": {},
   "outputs": [],
   "source": [
    "def cos_sim_of_features(feature_list):\n",
    "    cs_feat_cfg = []\n",
    "    cs_feat_neg_promp = []\n",
    "    cs_feat_promp_eng = []\n",
    "    cs_feat_lookup_tbl = []\n",
    "\n",
    "    for i in range(len(feature_list)):\n",
    "        cs_feat_cfg.append(cosine_similarity(feature_list[i][0], feature_list[i][1])[0, 0])\n",
    "        cs_feat_neg_promp.append(cosine_similarity(feature_list[i][0], feature_list[i][2])[0, 0])\n",
    "        cs_feat_promp_eng.append(cosine_similarity(feature_list[i][0], feature_list[i][3])[0, 0])\n",
    "        cs_feat_lookup_tbl.append(cosine_similarity(feature_list[i][0], feature_list[i][4])[0, 0])\n",
    "\n",
    "    return cs_feat_cfg, cs_feat_neg_promp, cs_feat_promp_eng, cs_feat_lookup_tbl"
   ]
  },
  {
   "cell_type": "code",
   "execution_count": 10,
   "metadata": {},
   "outputs": [
    {
     "name": "stderr",
     "output_type": "stream",
     "text": [
      "/home/jordankp/miniconda3/envs/sdxl/lib/python3.10/site-packages/torchvision/models/_utils.py:208: UserWarning: The parameter 'pretrained' is deprecated since 0.13 and may be removed in the future, please use 'weights' instead.\n",
      "  warnings.warn(\n",
      "/home/jordankp/miniconda3/envs/sdxl/lib/python3.10/site-packages/torchvision/models/_utils.py:223: UserWarning: Arguments other than a weight enum or `None` for 'weights' are deprecated since 0.13 and may be removed in the future. The current behavior is equivalent to passing `weights=ResNet50_Weights.IMAGENET1K_V1`. You can also use `weights=ResNet50_Weights.DEFAULT` to get the most up-to-date weights.\n",
      "  warnings.warn(msg)\n"
     ]
    },
    {
     "name": "stdout",
     "output_type": "stream",
     "text": [
      "model done!\n",
      "\n",
      "Cosine Similarity of Extracted Features between Default and Debias Methods:\n",
      "ClassFreeG: avg= 95.66314816474915 | std= 0.014811497181653976\n",
      "Neg Prompt: avg= 90.95184206962585 | std= 0.047348033636808395\n",
      "Prompt Eng: avg= 86.88436150550842 | std= 0.06912991404533386\n",
      "Lookup Tbl: avg= 87.99535036087036 | std= 0.052348311990499496\n"
     ]
    }
   ],
   "source": [
    "# Similaridade do Cosseno para toda a lista de imagens:\n",
    "feature_list = feature_extraction(all_images)\n",
    "cs_feat_cfg, cs_feat_neg_promp, cs_feat_promp_eng, cs_feat_lookup_tbl = cos_sim_of_features(feature_list)\n",
    "\n",
    "print(f'''\\nCosine Similarity of Extracted Features between Default and Debias Methods:\n",
    "ClassFreeG: avg= {np.mean(cs_feat_cfg)*100} | std= {np.std(cs_feat_cfg)}\n",
    "Neg Prompt: avg= {np.mean(cs_feat_neg_promp)*100} | std= {np.std(cs_feat_neg_promp)}\n",
    "Prompt Eng: avg= {np.mean(cs_feat_promp_eng)*100} | std= {np.std(cs_feat_promp_eng)}\n",
    "Lookup Tbl: avg= {np.mean(cs_feat_lookup_tbl)*100} | std= {np.std(cs_feat_lookup_tbl)}''')"
   ]
  }
 ],
 "metadata": {
  "kernelspec": {
   "display_name": "sdxl",
   "language": "python",
   "name": "python3"
  },
  "language_info": {
   "codemirror_mode": {
    "name": "ipython",
    "version": 3
   },
   "file_extension": ".py",
   "mimetype": "text/x-python",
   "name": "python",
   "nbconvert_exporter": "python",
   "pygments_lexer": "ipython3",
   "version": "3.10.12"
  }
 },
 "nbformat": 4,
 "nbformat_minor": 2
}

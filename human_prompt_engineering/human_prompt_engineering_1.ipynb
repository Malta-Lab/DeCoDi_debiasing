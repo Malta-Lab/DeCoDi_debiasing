{
 "cells": [
  {
   "cell_type": "code",
   "execution_count": null,
   "metadata": {},
   "outputs": [],
   "source": [
    "from diffusers import DiffusionPipeline\n",
    "import torch\n",
    "import numpy as np\n",
    "import random\n",
    "from PIL import Image\n",
    "from diffusers.utils import make_image_grid\n",
    "\n",
    "# load both base & refiner\n",
    "base = DiffusionPipeline.from_pretrained(\n",
    "    \"stabilityai/stable-diffusion-xl-base-1.0\",\n",
    "    torch_dtype=torch.float16,\n",
    "    variant=\"fp16\",\n",
    "    use_safetensors=True,\n",
    "    cache_dir='/mnt/A-NVME/jordankp/sdxl_models/')\n",
    "base.to(\"cuda:1\")\n",
    "refiner = DiffusionPipeline.from_pretrained(\n",
    "    \"stabilityai/stable-diffusion-xl-refiner-1.0\",\n",
    "    text_encoder_2=base.text_encoder_2,\n",
    "    vae=base.vae,\n",
    "    torch_dtype=torch.float16,\n",
    "    use_safetensors=True,\n",
    "    variant=\"fp16\",\n",
    "    cache_dir='/mnt/A-NVME/jordankp/sdxl_models/')\n",
    "refiner.to(\"cuda:1\")\n",
    "\n",
    "n_steps = 50\n",
    "high_noise_frac = 0.99\n",
    "guidance_scale = 12\n",
    "\n",
    "human_prompt_eng = 'a male or female gender diverse firefighter, focused on the face'\n",
    "img_list = []\n",
    "for seed in range(30):\n",
    "    torch.manual_seed(seed)\n",
    "    image = base(\n",
    "        prompt=human_prompt_eng,\n",
    "        negative_prompt=None,\n",
    "        num_inference_steps=n_steps,\n",
    "        denoising_end=high_noise_frac,\n",
    "        guidance_scale=guidance_scale,\n",
    "        output_type=\"latent\"\n",
    "    ).images\n",
    "    image_human_prompt_eng = refiner(\n",
    "        prompt=human_prompt_eng,\n",
    "        negative_prompt=None,\n",
    "        num_inference_steps=n_steps,\n",
    "        denoising_start=high_noise_frac,\n",
    "        image=image,\n",
    "        guidance_scale=guidance_scale,\n",
    "    ).images[0]\n",
    "\n",
    "    img_list.append(image_human_prompt_eng)\n",
    "    \n",
    "make_image_grid(img_list, rows=6, cols=5)"
   ]
  }
 ],
 "metadata": {
  "kernelspec": {
   "display_name": "sdxl",
   "language": "python",
   "name": "python3"
  },
  "language_info": {
   "codemirror_mode": {
    "name": "ipython",
    "version": 3
   },
   "file_extension": ".py",
   "mimetype": "text/x-python",
   "name": "python",
   "nbconvert_exporter": "python",
   "pygments_lexer": "ipython3",
   "version": "3.10.12"
  }
 },
 "nbformat": 4,
 "nbformat_minor": 2
}
